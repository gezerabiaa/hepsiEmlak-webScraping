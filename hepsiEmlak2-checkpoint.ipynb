{
 "cells": [
  {
   "cell_type": "code",
   "execution_count": null,
   "id": "fc053dd5",
   "metadata": {},
   "outputs": [],
   "source": [
    "import requests\n",
    "from bs4 import BeautifulSoup\n",
    "import pandas as pd\n",
    "\n",
    "for sayfa in range(2, 10):\n",
    "    url=\"https://www.hepsiemlak.com/istanbul-satilik?page=\"+str(sayfa)\n",
    "    response=requests.get(url)\n",
    "    html_icerik=response.content\n",
    "    soup=BeautifulSoup(html_icerik,\"html.parser\")\n",
    "    isim=soup.find_all(\"div\",attrs={\"class\":\"list-view-title\"})\n",
    "\n",
    "    fiyat=soup.find_all(\"span\",attrs={\"class\":\"list-view-price\"})\n",
    "\n",
    "    room=soup.find_all(\"span\",attrs={\"class\":\"celly houseRoomCount\"})\n",
    "\n",
    "    size=soup.find_all(\"span\",attrs={\"class\":\"celly squareMeter list-view-size\"})\n",
    "\n",
    "    location=soup.find_all(\"div\",attrs={\"class\":\"list-view-location\"})\n"
   ]
  },
  {
   "cell_type": "code",
   "execution_count": null,
   "id": "6bf2003c",
   "metadata": {},
   "outputs": [],
   "source": [
    "for i in range(len(isim)):\n",
    "    room[i] = (room[i]).strip(\"\\n\").strip() + room[i]\n",
    "    \n",
    "    fiyat[i] = (fiyat[i]).strip(\"\\n\").strip() + fiyat[i]\n",
    "    fiyat[i]= fiyat[i].replace(\".\",\"\")\n",
    "    fiyat[i]= fiyat[i].replace(\"TL\",\"\")\n",
    "    fiyat[i]= fiyat[i].replace(\" \",\"\")\n",
    "    \n",
    "    size[i] = (size[i]).strip(\"\\n\").strip() + size[i]\n",
    "    size[i] = size[i].replace(\"m2\",\"\")\n",
    "    size[i] = size[i].replace(\" \",\"\")\n",
    "    \n",
    "    location[i] = (location[i]).strip(\"\\n\").strip() + location[i]\n",
    "    location[i] = location[i].strip(\",\\n\\n\").strip()\n",
    "    location[i] = location[i].replace(\" \",\"\")\n",
    "    print(fiyat[i])\n",
    "    print(room[i])\n",
    "    print(size[i])\n",
    "    print(location[i])\n",
    "    print(len(isim))"
   ]
  },
  {
   "cell_type": "code",
   "execution_count": null,
   "id": "d251f636",
   "metadata": {},
   "outputs": [],
   "source": [
    "room_dataframe = pd.Series(room)\n",
    "room_dataframe.to_frame()\n",
    "\n",
    "fiyat_dataframe = pd.Series(fiyat)\n",
    "fiyat_dataframe.to_frame()\n",
    "\n",
    "size_dataframe = pd.Series(size)\n",
    "size_dataframe.to_frame()\n",
    "\n",
    "location_dataframe = pd.Series(location)\n",
    "location_dataframe.to_frame()"
   ]
  }
 ],
 "metadata": {
  "kernelspec": {
   "display_name": "Python 3 (ipykernel)",
   "language": "python",
   "name": "python3"
  },
  "language_info": {
   "codemirror_mode": {
    "name": "ipython",
    "version": 3
   },
   "file_extension": ".py",
   "mimetype": "text/x-python",
   "name": "python",
   "nbconvert_exporter": "python",
   "pygments_lexer": "ipython3",
   "version": "3.9.13"
  }
 },
 "nbformat": 4,
 "nbformat_minor": 5
}
